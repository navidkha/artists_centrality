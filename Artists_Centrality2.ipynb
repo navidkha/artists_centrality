{
 "cells": [
  {
   "cell_type": "markdown",
   "metadata": {
    "id": "giW8iqsubra3"
   },
   "source": [
    "# ARTIST CENTRALITY _part II_\n",
    "\n",
    "## Learning from Networks - Project 2022-2023\n",
    "\n",
    "## Group members : Crivellari Alberto, Khalili Navid, Sartor Nicolò\n",
    "\n",
    "## Artists closeness: different methods to compute the centrality of nodes in a graph"
   ]
  },
  {
   "cell_type": "markdown",
   "metadata": {
    "id": "KsAQOYjqb0mL"
   },
   "source": [
    "In this second part we will study the closeness centrality of random graphs of G"
   ]
  },
  {
   "cell_type": "markdown",
   "metadata": {
    "id": "3cgiN-jcb1av"
   },
   "source": [
    "### 1. Import libraries"
   ]
  },
  {
   "cell_type": "code",
   "execution_count": 1,
   "metadata": {
    "executionInfo": {
     "elapsed": 7,
     "status": "ok",
     "timestamp": 1673366916816,
     "user": {
      "displayName": "navid khalili",
      "userId": "14493212404015081588"
     },
     "user_tz": -60
    },
    "id": "OCrYICK8cBKz"
   },
   "outputs": [],
   "source": [
    "import networkx as nx \n",
    "import time\n",
    "import random as rnd\n",
    "import math\n",
    "import numpy.random\n",
    "import pandas\n",
    "import os\n",
    "import matplotlib.pyplot as plt"
   ]
  },
  {
   "cell_type": "markdown",
   "metadata": {},
   "source": [
    "#### 1.1. Create folder _results_"
   ]
  },
  {
   "cell_type": "code",
   "execution_count": 2,
   "metadata": {},
   "outputs": [
    {
     "name": "stdout",
     "output_type": "stream",
     "text": [
      "Folder already existing, nothing done\n"
     ]
    }
   ],
   "source": [
    "try :\n",
    "    os.mkdir('results')\n",
    "except :\n",
    "    print('Folder already existing, nothing done')"
   ]
  },
  {
   "cell_type": "markdown",
   "metadata": {
    "id": "WoA7cMDvcMZU"
   },
   "source": [
    "### 2. Build Graph G\n",
    "We build G as a subgraph with a 40 popularity filter of the graph in our dataset, then we remove nodes that aren't in the main connected component.\n",
    "\n",
    "Add nodes to graph G from file __nodes.csv__\n",
    "\n",
    "Remove duplicates from graph G, nodes with same IDs\n",
    "\n",
    "Add edges to graph G from file __edges.csv__\n",
    "\n",
    "Remove nodes that aren't in the main connected component\n",
    "\n",
    "__PS: All these passages were done separately in the first notebook__"
   ]
  },
  {
   "cell_type": "code",
   "execution_count": 3,
   "metadata": {
    "colab": {
     "base_uri": "https://localhost:8080/"
    },
    "executionInfo": {
     "elapsed": 1358,
     "status": "ok",
     "timestamp": 1673367127391,
     "user": {
      "displayName": "navid khalili",
      "userId": "14493212404015081588"
     },
     "user_tz": -60
    },
    "id": "L-4qn1N1cnxn",
    "outputId": "09af05ae-1055-4c2d-ed27-40bcc5640ebe",
    "tags": []
   },
   "outputs": [
    {
     "name": "stdout",
     "output_type": "stream",
     "text": [
      "ValueError occured while converting string to int. Node ID: 4Jgl9FmNQF6ontIRyY19Ig\n",
      "ValueError occured while converting string to int. Node ID: 3cCFieWefBXyyDRsjNuArE\n",
      "ValueError occured while converting string to int. Node ID: 1lLHQcDQFM03FcxZ5mQimA\n",
      "ValueError occured while converting string to int. Node ID: 7ti7Mdu4BTfKOYWcI1Q6h8\n",
      "ValueError occured while converting string to int. Node ID: 7estJE1m5cJnQs3Rc4iar0\n",
      "5 nodes have been discarded because of bad formatting!\n",
      "28621 nodes have been added successfully\n",
      "\n",
      "118141 edges have been added successfully\n",
      "\n",
      "28621 nodes before clean up\n",
      "118141 edges before clean up\n",
      "26389 nodes after clean up\n",
      "117766 edges after clean up\n",
      "\n"
     ]
    }
   ],
   "source": [
    "G = nx.Graph()\n",
    "\n",
    "# Load dataset with nodes info\n",
    "f = open('dataset/nodes.csv', \"r\", encoding=\"utf8\")\n",
    "f.readline()\n",
    "discarded_counter=0\n",
    "while True:\n",
    "    line = f.readline().strip()\n",
    "    if line == '':\n",
    "        break\n",
    "        \n",
    "    current_id, tmp = line.split(',', 1)\n",
    "    current_artist = current_followers = current_popularity = ''\n",
    "    if tmp[0] != '\"':\n",
    "        current_artist, current_followers, current_popularity, tmp = tmp.split(',', 3)\n",
    "    else:\n",
    "        empty, current_artist, tmp = tmp.split('\"', 2)\n",
    "        empty, current_followers, current_popularity, tmp = tmp.split(',', 3)\n",
    "    try:\n",
    "        current_followers = int(float(current_followers))\n",
    "        current_popularity = int(current_popularity)                \n",
    "    except ValueError as ve:\n",
    "        print('ValueError occured while converting string to int. Node ID:', current_id)\n",
    "        discarded_counter += 1\n",
    "        continue\n",
    "    #popularity filter\n",
    "    if current_popularity >= 40:\n",
    "        if G.has_node(current_id):\n",
    "            \n",
    "            if G.nodes[current_id]['followers'] < current_followers:\n",
    "                G.nodes[current_id]['followers'] = current_followers  \n",
    "            if G.nodes[current_id]['popularity'] < current_popularity:\n",
    "                G.nodes[current_id]['popularity'] = current_popularity\n",
    "        else:\n",
    "            G.add_node(current_id, artist=current_artist, followers=current_followers, popularity=current_popularity, path_sum=0)\n",
    "f.close()     \n",
    "print(discarded_counter,\"nodes have been discarded because of bad formatting!\")\n",
    "print(G.number_of_nodes(),\"nodes have been added successfully\\n\")\n",
    "\n",
    "#Load dataset with edges info\n",
    "f = open('dataset/edges.csv', \"r\", encoding=\"utf8\")\n",
    "f.readline()\n",
    "while True:\n",
    "    line = f.readline().strip()\n",
    "    if line == '':\n",
    "        break\n",
    "    id_0, id_1 = line.split(',', 1)\n",
    "    if G.has_node(id_0) and G.has_node(id_1):\n",
    "        G.add_edge(id_0, id_1) \n",
    "f.close()\n",
    "print(G.number_of_edges(),\"edges have been added successfully\\n\")\n",
    "\n",
    "print(G.number_of_nodes(),\"nodes before clean up\")\n",
    "print(G.number_of_edges(),\"edges before clean up\")\n",
    "nodes_main_component = max(nx.connected_components(G), key=len)\n",
    "G = G.subgraph(nodes_main_component)\n",
    "print(G.number_of_nodes(),\"nodes after clean up\")\n",
    "print(G.number_of_edges(),\"edges after clean up\\n\")"
   ]
  },
  {
   "cell_type": "markdown",
   "metadata": {},
   "source": [
    "### 3. Function for Approximate Closeness Centrality (Eppstein-Wang)"
   ]
  },
  {
   "cell_type": "code",
   "execution_count": 4,
   "metadata": {},
   "outputs": [],
   "source": [
    "def ApproximateClosenessCentrality_EW(G, k):\n",
    "    #make sure lable sum is equals to 0 for every node\n",
    "    for n in G:\n",
    "        G.nodes[n]['path_sum'] = 0\n",
    "        \n",
    "    for i in range(k):\n",
    "        #pick one node uniformally at random\n",
    "        random_node = rnd.choice(list(G.nodes()))\n",
    "        #solve sssp with picked node as source\n",
    "        sssp = nx.shortest_path_length(G, source=random_node)\n",
    "        #update partial sum of distancies for each node\n",
    "        for n, path_lenght in sssp.items():\n",
    "            G.nodes[n]['path_sum'] += path_lenght\n",
    "    centralities = {}\n",
    "    #compute final approximation of centrality for each node\n",
    "    for n in G:\n",
    "        if G.nodes[n]['path_sum'] == 0:\n",
    "            centralities[n] = 0\n",
    "        else:\n",
    "            centralities[n] = 1/((G.number_of_nodes()*G.nodes[n]['path_sum'])/(k*(G.number_of_nodes()-1)))\n",
    "    #return dicionary containg pairs (node, approximatedcentrality)\n",
    "    return centralities      "
   ]
  },
  {
   "cell_type": "markdown",
   "metadata": {},
   "source": [
    "### 4. Compute Approximate Closeness Centrality on our graph G"
   ]
  },
  {
   "cell_type": "markdown",
   "metadata": {},
   "source": [
    "#### 4.1. Calculate k using epsilon 0.1\n",
    "We use epsilon = 0.1 to calculate the k "
   ]
  },
  {
   "cell_type": "code",
   "execution_count": 5,
   "metadata": {},
   "outputs": [],
   "source": [
    "k = int(math.log(G.number_of_nodes(),2)/0.01)"
   ]
  },
  {
   "cell_type": "markdown",
   "metadata": {},
   "source": [
    "#### 4.2. Compute approximate closeness centralities of G __[15min]__\n",
    "We use the function of Eppstein-Wang "
   ]
  },
  {
   "cell_type": "code",
   "execution_count": 6,
   "metadata": {
    "tags": []
   },
   "outputs": [
    {
     "name": "stdout",
     "output_type": "stream",
     "text": [
      "the approximated closeness centralities with 1468 iterations have been computed in 812.6388809680939 seconds\n"
     ]
    }
   ],
   "source": [
    "start_time = time.time()\n",
    "approximated_closeness_centrality_EW = ApproximateClosenessCentrality_EW(G,k)\n",
    "end_time = time.time()\n",
    "\n",
    "#let's sort the results based on the value\n",
    "approximated_closeness_centrality_EW = {k: v for k, v in sorted(approximated_closeness_centrality_EW.items(), reverse=True, key=lambda item: item[1])}\n",
    "\n",
    "#let's print the results\n",
    "#print(approximated_closeness_centrality_EW_2)\n",
    "print(\"the approximated closeness centralities with %s iterations have been computed in %s seconds\" %(k, end_time - start_time))\n",
    "\n",
    "#Let's store the results\n",
    "f = open('results/results_approximated_closeness_centrality_EW_epsilon_0_01.txt', \"w\", encoding=\"utf8\")\n",
    "for key, value in approximated_closeness_centrality_EW.items():\n",
    "    f.write('%s:%s\\n' %(key, value))\n",
    "    \n",
    "# Close opened file\n",
    "f.close()"
   ]
  },
  {
   "cell_type": "markdown",
   "metadata": {},
   "source": [
    "#### 4.3. Compute mean of the approximate closeness centralities of G"
   ]
  },
  {
   "cell_type": "code",
   "execution_count": 7,
   "metadata": {},
   "outputs": [],
   "source": [
    "mean_graphG_centralities = 0\n",
    "for n in G :\n",
    "        mean_graphG_centralities += approximated_closeness_centrality_EW[n]\n",
    "mean_graphG_centralities = mean_graphG_centralities/G.number_of_nodes()"
   ]
  },
  {
   "cell_type": "markdown",
   "metadata": {},
   "source": [
    "### 5. Generate random graphs of G and run Approximate Closeness Centrality on them"
   ]
  },
  {
   "cell_type": "markdown",
   "metadata": {},
   "source": [
    "We want to know if our closeness centrality measure is significant.\n",
    "\n",
    "To do so we randomly generate graphs with as much nodes and edges as our graph G, making sure that the graph that we obtain is connected, then we compute the stats for these graphs and compare them with the stats of G.\n",
    "\n",
    "We store the number of random graphs in a variable."
   ]
  },
  {
   "cell_type": "code",
   "execution_count": 8,
   "metadata": {},
   "outputs": [],
   "source": [
    "number_of_random_graphs = 200"
   ]
  },
  {
   "cell_type": "markdown",
   "metadata": {},
   "source": [
    "#### 5.1. Model G(n,p) __[2hours]__\n",
    "Let's start by generating (_number of random graphs_/2) random graphs.\n",
    "\n",
    "We use G(n,p) as the model of random graphs.\n",
    "\n",
    "Then we compute the closeness centrality with Eppstein-Wang, with epsilon = 0.1."
   ]
  },
  {
   "cell_type": "code",
   "execution_count": 9,
   "metadata": {
    "tags": []
   },
   "outputs": [
    {
     "name": "stdout",
     "output_type": "stream",
     "text": [
      "The approx. closeness centralities with 1468 iterations of the 100 random graph with the G(n,p) model have been computed in : 7396 seconds\n"
     ]
    }
   ],
   "source": [
    "\n",
    "#let's compute the probability of an edge as number of edges over possible number of edges\n",
    "probability = G.number_of_edges()/(G.number_of_nodes()*(G.number_of_nodes()-1)/2)\n",
    "all_mean_random_centralities=[]\n",
    "start_time = time.time()\n",
    "for i in range(int(number_of_random_graphs/2)):\n",
    "    #Let's now inizialize the random graph (as seed we use a pseudo-random number)\n",
    "    random_G = nx.fast_gnp_random_graph(G.number_of_nodes(), p = probability, seed = rnd.randrange(10000))\n",
    "    \n",
    "    #If the first graph we generated is not connected we keep generating graphs until we find a connected graph\n",
    "    while not nx.is_connected(random_G):\n",
    "        random_G = nx.fast_gnp_random_graph(G.number_of_nodes(), p = probability, seed = rnd.randrange(10000))\n",
    "    \n",
    "    #We calculate k with epsilon = 0.1, using random_G number of nodes \n",
    "    k = int(math.log(random_G.number_of_nodes(),2)/0.01)\n",
    "    \n",
    "    #Now that we generated the graph and we have k we compute the approximated centralities with Eppstein-Wang algorithm\n",
    "    approximated_closeness_centrality_random = ApproximateClosenessCentrality_EW(random_G,k)\n",
    "    \n",
    "    #let's sort the results based on the value\n",
    "    approximated_closeness_centrality_random = {k: v for k, v in sorted(approximated_closeness_centrality_random.items(),reverse=True , key=lambda item: item[1])}\n",
    "\n",
    "    #Let's store the results and compute the sum of all the centralities that we will use later to compute the mean\n",
    "    mean_random_centralities = 0\n",
    "    f = open(f'results/results_approximated_closeness_centrality_random_{i+1}.txt', \"w\", encoding=\"utf8\")\n",
    "    for key, value in approximated_closeness_centrality_random.items():\n",
    "        f.write('%s:%s\\n' %(key, value))\n",
    "        mean_random_centralities += value\n",
    "    mean_random_centralities = mean_random_centralities/random_G.number_of_nodes()\n",
    "    \n",
    "    #Let's store it\n",
    "    all_mean_random_centralities.append(mean_random_centralities)\n",
    "end_time = time.time()\n",
    "print(f\"The approx. closeness centralities with %s iterations of the {i+1} random graph with the G(n,p) model have been computed in : %d seconds\" %(k, end_time - start_time))"
   ]
  },
  {
   "cell_type": "markdown",
   "metadata": {},
   "source": [
    "#### 5.2. Chung-Lu Model __[2hours]__\n",
    "Now we generate (_number of random graphs_/2) random graphs with the Chung-Lu model (taking in consideration degree of nodes).\n",
    "\n",
    "If the returned graph is not connected we randomly add enough edges to make the graph connected"
   ]
  },
  {
   "cell_type": "code",
   "execution_count": 10,
   "metadata": {
    "tags": []
   },
   "outputs": [
    {
     "name": "stdout",
     "output_type": "stream",
     "text": [
      "The approx. closeness centralities with 1468 iterations of the 100 random graph with the Chung-Lu model have been computed in : 4754 seconds\n"
     ]
    }
   ],
   "source": [
    "expected_degrees = []\n",
    "for n in G:\n",
    "    expected_degrees.append(G.degree[n])\n",
    "\n",
    "all_mean_random_degree_centralities=[]\n",
    "start_time = time.time()\n",
    "for i in range(int(number_of_random_graphs/2)):\n",
    "    #Let's now inizialize the random graph, as seed we use a pseudo-random number\n",
    "    random_degree_G = nx.expected_degree_graph(expected_degrees, seed=rnd.randrange(10000), selfloops=False)\n",
    "    \n",
    "    #If the graph we generated is not connected we randomly add enough edges to make it connected\n",
    "    if not nx.is_connected(random_degree_G):\n",
    "        random_degree_G = nx.expected_degree_graph(expected_degrees, seed=rnd.randrange(10000), selfloops=False)\n",
    "    \n",
    "    #Now that we generated the graph we need to compute the approximated centraliteis\n",
    "    approximated_closeness_centrality_random_degree = ApproximateClosenessCentrality_EW(random_degree_G,k)\n",
    "    \n",
    "    #let's sort the results based on the value\n",
    "    approximated_closeness_centrality_random_degree = {k: v for k, v in sorted(approximated_closeness_centrality_random_degree.items(),reverse=True , key=lambda item: item[1])}\n",
    "\n",
    "    #Let's compute the sum of all the centralities that we will use later to compute the mean\n",
    "    mean_random_degree_centralities = 0\n",
    "    f = open(f'results/results_approximated_closeness_centrality_random_wiht_same_degree_{i+1}.txt', \"w\", encoding=\"utf8\")\n",
    "    for key, value in approximated_closeness_centrality_random_degree.items():\n",
    "        f.write('%s:%s\\n' %(key, value))\n",
    "        mean_random_degree_centralities += value\n",
    "    mean_random_degree_centralities = mean_random_degree_centralities/random_degree_G.number_of_nodes()\n",
    "    \n",
    "    #let's store it\n",
    "    all_mean_random_degree_centralities.append(mean_random_degree_centralities)\n",
    "end_time = time.time()\n",
    "print(f\"The approx. closeness centralities with %s iterations of the {i+1} random graph with the Chung-Lu model have been computed in : %d seconds\" %(k, end_time - start_time))"
   ]
  },
  {
   "cell_type": "markdown",
   "metadata": {},
   "source": [
    "### 6. Store means of closeness centralities in a file\n",
    "We store them in the file _statistics2.txt_"
   ]
  },
  {
   "cell_type": "code",
   "execution_count": 11,
   "metadata": {},
   "outputs": [],
   "source": [
    "stats_file2 = open('results/statistics2.txt', \"w\", encoding=\"utf8\")\n",
    "stats_file2.write(f\"The mean of the approximated centralities of the graphG is: {mean_graphG_centralities}\\n\")\n",
    "for i in range(int(number_of_random_graphs/2)) :\n",
    "    stats_file2.write(f\"The mean of the approximated centralities of the {i+1} random graph is: {all_mean_random_centralities[i]}\\n\")\n",
    "    stats_file2.write(f\"The mean of the approximated centralities of the {i+1} random graph that takes in consideration the degree of the nodes is: {all_mean_random_degree_centralities[i]}\\n\")\n",
    "stats_file2.close()"
   ]
  },
  {
   "cell_type": "markdown",
   "metadata": {},
   "source": [
    "### 7. Compute z-scores to assess significance of our closeness centralities of G\n",
    "To do so we need our feature f, the mean of the approximate closeness centrality of G, then we need the mean of random graphs measures and the variance of the random graphs measures.\n",
    "\n",
    "We do it for the 2 types of random graphs, obtaining 2 z-scores. (G(n,p) model and Chung-Lu model)"
   ]
  },
  {
   "cell_type": "code",
   "execution_count": 12,
   "metadata": {},
   "outputs": [
    {
     "name": "stdout",
     "output_type": "stream",
     "text": [
      "z-score for G(n,p) model is :  -0.06464258577803932\n",
      "z-score for Chung-Lu model is :  -0.21967501361850275\n"
     ]
    }
   ],
   "source": [
    "mean = mean_graphG_centralities\n",
    "\n",
    "mean_gnp = sum(all_mean_random_centralities)/len(all_mean_random_centralities)\n",
    "variance_gnp = 0\n",
    "for i in all_mean_random_centralities :\n",
    "    variance_gnp += (i - mean_gnp)**2\n",
    "variance_gnp = (variance_gnp / (len(all_mean_random_centralities)-1))**0.5\n",
    "\n",
    "\n",
    "mean_chunglu = sum(all_mean_random_degree_centralities)/len(all_mean_random_degree_centralities)\n",
    "variance_chunglu = 0\n",
    "for i in all_mean_random_degree_centralities :\n",
    "    variance_chunglu += (i - mean_chunglu)**2\n",
    "variance_gnp = (variance_chunglu / (len(all_mean_random_degree_centralities)-1))**0.5\n",
    "\n",
    "z_score_gnp = (mean - mean_gnp)/variance_gnp\n",
    "z_score_chunglu = (mean - mean_chunglu)/variance_chunglu\n",
    "\n",
    "print('z-score for G(n,p) model is : ', (z_score_gnp))\n",
    "print('z-score for Chung-Lu model is : ', (z_score_chunglu))"
   ]
  },
  {
   "cell_type": "markdown",
   "metadata": {},
   "source": [
    "### 8. Compute p-values as a secondary measure to assess significance of our closeness centralities of G"
   ]
  },
  {
   "cell_type": "code",
   "execution_count": 13,
   "metadata": {},
   "outputs": [
    {
     "name": "stdout",
     "output_type": "stream",
     "text": [
      "p-value for G(n,p) model is :  0.0\n",
      "p-value for Chung-Lu model is :  0.0\n"
     ]
    }
   ],
   "source": [
    "pvalue_gnp = 0\n",
    "pvalue_chunglu = 0\n",
    "\n",
    "for i in range(int(number_of_random_graphs/2)) :\n",
    "    if mean_gnp >= mean and all_mean_random_centralities[i] < mean :\n",
    "        pvalue_gnp += 1\n",
    "    if mean_gnp < mean and all_mean_random_centralities[i] >= mean :\n",
    "        pvalue_gnp += 1\n",
    "        \n",
    "    if mean_chunglu >= mean and all_mean_random_degree_centralities[i] < mean :\n",
    "        pvalue_chunglu += 1\n",
    "    if mean_chunglu < mean and all_mean_random_degree_centralities[i] >= mean :\n",
    "        pvalue_chunglu += 1\n",
    "        \n",
    "pvalue_gnp = pvalue_gnp / len(all_mean_random_centralities)\n",
    "pvalue_chunglu = pvalue_chunglu / len(all_mean_random_degree_centralities)\n",
    "\n",
    "print('p-value for G(n,p) model is : ', (pvalue_gnp))\n",
    "print('p-value for Chung-Lu model is : ', (pvalue_chunglu))"
   ]
  },
  {
   "cell_type": "markdown",
   "metadata": {},
   "source": [
    "### 9. Print results in a table"
   ]
  },
  {
   "cell_type": "code",
   "execution_count": 14,
   "metadata": {
    "tags": []
   },
   "outputs": [],
   "source": [
    "# We also compute standard deviation of approx. algorithm on original graph G for completeness\n",
    "variance_original_graph = 0\n",
    "for i in approximated_closeness_centrality_EW :\n",
    "    variance_original_graph += (approximated_closeness_centrality_EW[i] - mean)**2 \n",
    "variance_original_graph = (variance_original_graph / (len(approximated_closeness_centrality_EW)-1))**0.5"
   ]
  },
  {
   "cell_type": "code",
   "execution_count": 15,
   "metadata": {},
   "outputs": [
    {
     "data": {
      "text/html": [
       "<div>\n",
       "<style scoped>\n",
       "    .dataframe tbody tr th:only-of-type {\n",
       "        vertical-align: middle;\n",
       "    }\n",
       "\n",
       "    .dataframe tbody tr th {\n",
       "        vertical-align: top;\n",
       "    }\n",
       "\n",
       "    .dataframe thead th {\n",
       "        text-align: right;\n",
       "    }\n",
       "</style>\n",
       "<table border=\"1\" class=\"dataframe\">\n",
       "  <thead>\n",
       "    <tr style=\"text-align: right;\">\n",
       "      <th></th>\n",
       "      <th>Means</th>\n",
       "      <th>Standard Deviations</th>\n",
       "      <th>z-scores</th>\n",
       "      <th>p-values</th>\n",
       "    </tr>\n",
       "  </thead>\n",
       "  <tbody>\n",
       "    <tr>\n",
       "      <th>Original graph G</th>\n",
       "      <td>0.196942</td>\n",
       "      <td>0.029168</td>\n",
       "      <td>\\</td>\n",
       "      <td>\\</td>\n",
       "    </tr>\n",
       "    <tr>\n",
       "      <th>Random graphs - G(n,p)</th>\n",
       "      <td>0.204621</td>\n",
       "      <td>0.118801</td>\n",
       "      <td>-0.064643</td>\n",
       "      <td>0.0</td>\n",
       "    </tr>\n",
       "    <tr>\n",
       "      <th>Random graphs - ChungLu</th>\n",
       "      <td>0.503881</td>\n",
       "      <td>1.397244</td>\n",
       "      <td>-0.219675</td>\n",
       "      <td>0.0</td>\n",
       "    </tr>\n",
       "  </tbody>\n",
       "</table>\n",
       "</div>"
      ],
      "text/plain": [
       "                            Means  Standard Deviations  z-scores p-values\n",
       "Original graph G         0.196942             0.029168         \\        \\\n",
       "Random graphs - G(n,p)   0.204621             0.118801 -0.064643      0.0\n",
       "Random graphs - ChungLu  0.503881             1.397244 -0.219675      0.0"
      ]
     },
     "execution_count": 15,
     "metadata": {},
     "output_type": "execute_result"
    }
   ],
   "source": [
    "table = {'Means': [mean, mean_gnp, mean_chunglu], 'Standard Deviations' : [variance_original_graph, variance_gnp, variance_chunglu], 'z-scores' : ['\\\\', z_score_gnp, z_score_chunglu], 'p-values' : ['\\\\', pvalue_gnp, pvalue_chunglu]}\n",
    "\n",
    "pandas.DataFrame(data = table, index = ['Original graph G', 'Random graphs - G(n,p)', 'Random graphs - ChungLu'])"
   ]
  },
  {
   "cell_type": "markdown",
   "metadata": {},
   "source": [
    "#### From the table we can see from z-scores and p-values that our result is statistically significant."
   ]
  },
  {
   "cell_type": "markdown",
   "metadata": {},
   "source": [
    "### 9.1. Plot random graphs' means, to see their distribution "
   ]
  },
  {
   "cell_type": "code",
   "execution_count": 17,
   "metadata": {},
   "outputs": [
    {
     "data": {
      "text/plain": [
       "<matplotlib.legend.Legend at 0x21f00c315b0>"
      ]
     },
     "execution_count": 17,
     "metadata": {},
     "output_type": "execute_result"
    },
    {
     "data": {
      "image/png": "[encoded data removed]",
      "text/plain": [
       "<Figure size 640x480 with 1 Axes>"
      ]
     },
     "metadata": {},
     "output_type": "display_data"
    }
   ],
   "source": [
    "plt.plot(all_mean_random_centralities, label = 'Random graphs - G(n,p)')\n",
    "plt.plot(all_mean_random_degree_centralities, label = 'Random graphs - ChungLu')\n",
    "list_mean = []\n",
    "for i in range(int(number_of_random_graphs/2)) :\n",
    "    list_mean.append(mean)\n",
    "plt.plot(list_mean, label = 'Original graph G')\n",
    "plt.legend()"
   ]
  }
 ],
 "metadata": {
  "colab": {
   "authorship_tag": "ABX9TyOvu63Ith1X6ya3KpSWD2L4",
   "provenance": []
  },
  "kernelspec": {
   "display_name": "Python 3 (ipykernel)",
   "language": "python",
   "name": "python3"
  },
  "language_info": {
   "codemirror_mode": {
    "name": "ipython",
    "version": 3
   },
   "file_extension": ".py",
   "mimetype": "text/x-python",
   "name": "python",
   "nbconvert_exporter": "python",
   "pygments_lexer": "ipython3",
   "version": "3.9.13"
  },
  "vscode": {
   "interpreter": {
    "hash": "af85c8e0638ca0d417e87a3c64c41ceed11486eb6deac483897a57450080e7fc"
   }
  }
 },
 "nbformat": 4,
 "nbformat_minor": 4
}
